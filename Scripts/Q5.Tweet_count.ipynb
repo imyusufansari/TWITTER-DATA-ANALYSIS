{
 "cells": [
  {
   "cell_type": "code",
   "execution_count": 1,
   "id": "d4257a45",
   "metadata": {},
   "outputs": [
    {
     "data": {
      "text/html": [
       "\n",
       "            <div>\n",
       "                <p><b>SparkSession - hive</b></p>\n",
       "                \n",
       "        <div>\n",
       "            <p><b>SparkContext</b></p>\n",
       "\n",
       "            <p><a href=\"http://DESKTOP-J364ET4:4040\">Spark UI</a></p>\n",
       "\n",
       "            <dl>\n",
       "              <dt>Version</dt>\n",
       "                <dd><code>v3.1.2</code></dd>\n",
       "              <dt>Master</dt>\n",
       "                <dd><code>local[*]</code></dd>\n",
       "              <dt>AppName</dt>\n",
       "                <dd><code>PySparkShell</code></dd>\n",
       "            </dl>\n",
       "        </div>\n",
       "        \n",
       "            </div>\n",
       "        "
      ],
      "text/plain": [
       "<pyspark.sql.session.SparkSession at 0x236aa63aac0>"
      ]
     },
     "execution_count": 1,
     "metadata": {},
     "output_type": "execute_result"
    }
   ],
   "source": [
    "import pyspark\n",
    "import pyspark.sql\n",
    "from pyspark import SparkContext\n",
    "sc = SparkContext.getOrCreate();\n",
    "import findspark\n",
    "findspark.init()\n",
    "from pyspark.sql import SparkSession\n",
    "spark = SparkSession.builder.master(\"local[*]\").getOrCreate()\n",
    "spark.conf.set(\"spark.sql.repl.eagerEval.enabled\", True) # Property used to format output tables better\n",
    "spark"
   ]
  },
  {
   "cell_type": "code",
   "execution_count": 2,
   "id": "888e75e3",
   "metadata": {},
   "outputs": [],
   "source": [
    "data1=spark.read.format(\"com.databricks.spark.csv\").options(inferSchema=\"true\",header='true',escape='\"').load(\"gender-classifier-DFE-791531.csv\")"
   ]
  },
  {
   "cell_type": "code",
   "execution_count": 5,
   "id": "d8f941b8",
   "metadata": {},
   "outputs": [
    {
     "name": "stdout",
     "output_type": "stream",
     "text": [
      "+---------+-------+-----------+------------------+-----------------+-------+-----------------+----------+---------------------+--------------+--------------------+----------+-----------+----------+---------------+---------------+--------------------+-------------+-------------+--------------------+-----------+-----------+--------------+---------+--------------------+--------------------+\n",
      "| _unit_id|_golden|_unit_state|_trusted_judgments|_last_judgment_at| gender|gender:confidence|profile_yn|profile_yn:confidence|       created|         description|fav_number|gender_gold|link_color|           name|profile_yn_gold|        profileimage|retweet_count|sidebar_color|                text|tweet_coord|tweet_count| tweet_created| tweet_id|      tweet_location|       user_timezone|\n",
      "+---------+-------+-----------+------------------+-----------------+-------+-----------------+----------+---------------------+--------------+--------------------+----------+-----------+----------+---------------+---------------+--------------------+-------------+-------------+--------------------+-----------+-----------+--------------+---------+--------------------+--------------------+\n",
      "|815719226|  FALSE|  finalized|                 3|   10/26/15 23:24|   male|                1|       yes|                    1|  12/5/13 1:48|i sing my own rhy...|         0|       null|    08C2C2|        sheezy0|           null|https://pbs.twimg...|            0|       FFFFFF|Robbie E Responds...|       null|     110964|10/26/15 12:40|6.5873E17|     main; @Kan1shk3|             Chennai|\n",
      "|815719227|  FALSE|  finalized|                 3|   10/26/15 23:30|   male|                1|       yes|                    1| 10/1/12 13:51|I'm the author of...|        68|       null|    0084B4|    DavdBurnett|           null|https://pbs.twimg...|            0|       C0DEED|���It felt like t...|       null|       7471|10/26/15 12:40|6.5873E17|                null|Eastern Time (US ...|\n",
      "|815719228|  FALSE|  finalized|                 3|   10/26/15 23:33|   male|           0.6625|       yes|                    1|11/28/14 11:30|louis whining and...|      7696|       null|    ABB8C2| lwtprettylaugh|           null|https://pbs.twimg...|            1|       C0DEED|i absolutely ador...|       null|       5617|10/26/15 12:40|6.5873E17|              clcncl|            Belgrade|\n",
      "|815719229|  FALSE|  finalized|                 3|   10/26/15 23:10|   male|                1|       yes|                    1| 6/11/09 22:39|Mobile guy.  49er...|       202|       null|    0084B4|    douggarland|           null|https://pbs.twimg...|            0|       C0DEED|Hi @JordanSpieth ...|       null|       1693|10/26/15 12:40|6.5873E17|       Palo Alto, CA|Pacific Time (US ...|\n",
      "|815719230|  FALSE|  finalized|                 3|    10/27/15 1:15| female|                1|       yes|                    1| 4/16/14 13:23|Ricky Wilson The ...|     37318|       null|    3B94D9|   WilfordGemma|           null|https://pbs.twimg...|            0|            0|Watching Neighbou...|       null|      31462|10/26/15 12:40|6.5873E17|                null|                null|\n",
      "|815719231|  FALSE|  finalized|                 3|    10/27/15 1:47| female|                1|       yes|                    1| 3/11/10 18:14|  you don't know me.|      3901|       null|    F5ABB5|  monroevicious|           null|https://pbs.twimg...|            0|            0|Ive seen people o...|       null|      20036|10/26/15 12:40|6.5873E17|     New York Gritty|Central Time (US ...|\n",
      "|815719232|  FALSE|  finalized|                 3|    10/27/15 1:57|  brand|                1|       yes|                    1| 4/24/08 13:03|A global marketpl...|      4122|       null|    298AAE|   Shutterstock|           null|https://pbs.twimg...|            0|            0|@BpackEngineer Th...|       null|      13354|10/26/15 12:40|6.5873E17|           Worldwide|Eastern Time (US ...|\n",
      "|815719233|  FALSE|  finalized|                 3|   10/26/15 23:48|   male|                1|       yes|                    1| 12/3/12 21:54|The secret of get...|        80|       null|    0000FF|     RobinMeske|           null|https://pbs.twimg...|            0|       C0DEED|Gala Bingo clubs ...|       null|     112117|10/26/15 12:40|6.5873E17|                null|                null|\n",
      "|815719234|  FALSE|  finalized|                 3|    10/27/15 1:52| female|                1|       yes|                    1|   9/8/15 4:50|Pll Fan // Crazy ...|      1825|       null|    9266CC|      pigzilla_|           null|https://pbs.twimg...|            0|            0|@_Aphmau_ the pic...|       null|        482|10/26/15 12:40|6.5873E17|                null|                null|\n",
      "|815719235|  FALSE|  finalized|                 3|    10/27/15 1:49| female|                1|       yes|                    1|  5/13/11 3:32|Renaissance art h...|      3115|       null|    9266CC|  GabrieleNeher|           null|https://pbs.twimg...|            0|       FFFFFF|@Evielady just ho...|       null|      26085|10/26/15 12:40|6.5873E17|Nottingham, England.|           Amsterdam|\n",
      "|815719236|  FALSE|  finalized|                 3|   10/26/15 23:17|  brand|           0.7002|       yes|                    1|11/16/11 17:14|Clean food that t...|       516|       null|    0084B4|  Blissful_Eats|           null|https://pbs.twimg...|            0|       C0DEED|how are you takin...|       null|       5179|10/26/15 12:40|6.5873E17|            New York|Atlantic Time (Ca...|\n",
      "|815719237|  FALSE|  finalized|                 3|   10/26/15 22:33|  brand|                1|       yes|                    1| 2/22/15 20:06|highly extraordin...|         0|       null|    0084B4|   eliseotecleo|           null|https://pbs.twimg...|            0|       C0DEED|MTG Deals 1x Rank...|       null|      66684|10/26/15 12:40|6.5873E17|                null|Pacific Time (US ...|\n",
      "|815719238|  FALSE|  finalized|                 3|   10/26/15 22:20| female|           0.6509|       yes|                    1|  8/10/12 5:05|Senior '16 . XI-X...|      3371|       null|    0084B4| kaylanabrewer_|           null|https://pbs.twimg...|            0|       FFFFFF|Just put my ass o...|       null|      13585|10/26/15 12:40|6.5873E17|                null|Atlantic Time (Ca...|\n",
      "|815719239|  FALSE|  finalized|                 3|   10/26/15 23:29|  brand|                1|       yes|                    1|  5/1/12 22:14|Come join the fas...|         0|       null|    2FC2EF|  americacredit|           null|https://pbs.twimg...|            0|       181A1E|https://t.co/z4sb...|       null|     199466|10/26/15 12:40|6.5873E17|      America Credit|Pacific Time (US ...|\n",
      "|815719240|  FALSE|  finalized|                 3|    10/27/15 1:29| female|           0.6501|       yes|                    1|  4/6/13 15:31|im just here for ...|     13928|       null|    0084B4|       cheyflan|           null|https://pbs.twimg...|            0|       FFFFFF|will i even need ...|       null|      18469|10/26/15 12:40|6.5873E17|      row b seat 104|Atlantic Time (Ca...|\n",
      "|815719241|  FALSE|  finalized|                 3|    10/27/15 1:50| female|                1|       yes|                    1| 10/3/15 21:32|                null|         0|       null|    0084B4|      Ayu7sith4|           null|https://pbs.twimg...|            0|       C0DEED|https://t.co/EROG...|       null|      44421|10/26/15 12:40|6.5873E17|                null|                null|\n",
      "|815719242|  FALSE|  finalized|                 3|   10/26/15 23:43| female|                1|       yes|                    1|  8/27/11 9:42|           JMKM�_ҕ��|      1762|       null|     58185|   Toucaan_Samm|           null|https://pbs.twimg...|            0|       EEEEEE|@giannaaa28 lmao ...|       null|      16627|10/26/15 12:40|6.5873E17|                null|             Arizona|\n",
      "|815719243|  FALSE|  finalized|                 3|   10/26/15 22:50|   male|                1|       yes|                    1|10/18/09 11:41|Over enthusiastic...|         5|       null|    0084B4|     SSmyth2010|           null|https://pbs.twimg...|            0|       C0DEED|@coolyazzy94 Ditt...|       null|         91|10/26/15 12:40|6.5873E17|             Glasgow|              London|\n",
      "|815719244|  FALSE|  finalized|                 3|    10/27/15 1:42|   male|                1|       yes|                    1| 7/20/15 12:01|                null|         1|       null|    0084B4|DarkToonsGaming|           null|https://pbs.twimg...|            0|       C0DEED|@CaribBros @JstSa...|       null|         13|10/26/15 12:40|6.5873E17|                null|                null|\n",
      "|815719245|  FALSE|  finalized|                 3|   10/26/15 22:19|unknown|           0.3527|       yes|                    1|  1/30/15 9:52|                null|       160|       null|    0084B4|    GourlayLynn|           null|https://pbs.twimg...|            0|            0|Me too, saw five ...|       null|       2398|10/26/15 12:40|6.5873E17|                null|                null|\n",
      "+---------+-------+-----------+------------------+-----------------+-------+-----------------+----------+---------------------+--------------+--------------------+----------+-----------+----------+---------------+---------------+--------------------+-------------+-------------+--------------------+-----------+-----------+--------------+---------+--------------------+--------------------+\n",
      "only showing top 20 rows\n",
      "\n"
     ]
    }
   ],
   "source": [
    "data1.show()"
   ]
  },
  {
   "cell_type": "code",
   "execution_count": 15,
   "id": "db6ee46c",
   "metadata": {},
   "outputs": [
    {
     "data": {
      "text/html": [
       "<table border='1'>\n",
       "<tr><th>_unit_id</th><th>_golden</th><th>_unit_state</th><th>_trusted_judgments</th><th>_last_judgment_at</th><th>gender</th><th>gender:confidence</th><th>profile_yn</th><th>profile_yn:confidence</th><th>created</th><th>description</th><th>fav_number</th><th>gender_gold</th><th>link_color</th><th>name</th><th>profile_yn_gold</th><th>profileimage</th><th>retweet_count</th><th>sidebar_color</th><th>text</th><th>tweet_coord</th><th>tweet_count</th><th>tweet_created</th><th>tweet_id</th><th>tweet_location</th><th>user_timezone</th></tr>\n",
       "<tr><td>Specializing��in�...</td><td> UI Design</td><td>��and��Icon��Crea...</td><td> animals</td><td> traveling</td><td> pop culture</td><td> and tattoos.&quot;</td><td>682</td><td>null</td><td>2A90EA</td><td>kalmichael</td><td>null</td><td>https://pbs.twimg...</td><td>0</td><td>292929</td><td>@kevinhoctor Wher...</td><td>null</td><td>15614</td><td>10/26/15 12:40</td><td>6.5873E+17</td><td>San Francisco, CA</td><td>Pacific Time (US ...</td><td>null</td><td>null</td><td>null</td><td>null</td></tr>\n",
       "<tr><td>Your Hub for bran...</td><td> marketing and pr...</td><td> mixtapes</td><td> graphic design</td><td> printing</td><td> djs</td><td> artists ETC!&quot;</td><td>2</td><td>null</td><td>FF0000</td><td>PROMO4LIFE_BIZ</td><td>null</td><td>https://pbs.twimg...</td><td>0</td><td>0</td><td>THE BAY IS JUMPIN...</td><td>null</td><td>34477</td><td>10/26/15 12:40</td><td>6.5873E+17</td><td>New York City</td><td>Atlantic Time (Ca...</td><td>null</td><td>null</td><td>null</td><td>null</td></tr>\n",
       "<tr><td>815726459</td><td>FALSE</td><td>finalized</td><td>3</td><td>10/27/15 0:10</td><td>brand</td><td>0.6702</td><td>yes</td><td>1</td><td>4/8/14 5:37</td><td>null</td><td>0</td><td>null</td><td>0084B4</td><td>02889trdc</td><td>null</td><td>https://abs.twimg...</td><td>0</td><td>C0DEED</td><td>Get Weather Updat...</td><td>null</td><td>99958</td><td>10/26/15 12:40</td><td>6.5873E17</td><td>null</td><td>null</td></tr>\n",
       "<tr><td>815725804</td><td>FALSE</td><td>finalized</td><td>3</td><td>10/26/15 22:04</td><td>brand</td><td>1</td><td>yes</td><td>1</td><td>3/16/11 5:20</td><td>@koolfmbarrie Bar...</td><td>997</td><td>null</td><td>0084B4</td><td>KoolFMBarrie</td><td>null</td><td>https://pbs.twimg...</td><td>0</td><td>FFFFFF</td><td>Don&#x27;t miss the #B...</td><td>null</td><td>9993</td><td>10/26/15 12:40</td><td>6.5873E17</td><td>Barrie</td><td>Pacific Time (US ...</td></tr>\n",
       "<tr><td>815719525</td><td>FALSE</td><td>finalized</td><td>3</td><td>10/26/15 22:47</td><td>female</td><td>1</td><td>yes</td><td>1</td><td>4/21/12 3:09</td><td>If relationship c...</td><td>0</td><td>null</td><td>0084B4</td><td>leechjgena</td><td>null</td><td>https://pbs.twimg...</td><td>0</td><td>C0DEED</td><td>#Mens #Shirt #Bre...</td><td>null</td><td>99915</td><td>10/26/15 12:40</td><td>6.5873E17</td><td>null</td><td>Berlin</td></tr>\n",
       "<tr><td>815728297</td><td>FALSE</td><td>finalized</td><td>3</td><td>10/27/15 1:21</td><td>female</td><td>1</td><td>yes</td><td>1</td><td>4/28/11 19:46</td><td>life throws you c...</td><td>5006</td><td>null</td><td>0084B4</td><td>KimNarry</td><td>null</td><td>https://pbs.twimg...</td><td>0</td><td>C0DEED</td><td>I hope my kids ha...</td><td>null</td><td>9991</td><td>10/26/15 12:39</td><td>6.5873E17</td><td>probably at sonic</td><td>Central Time (US ...</td></tr>\n",
       "<tr><td>815737381</td><td>FALSE</td><td>finalized</td><td>3</td><td>10/27/15 0:15</td><td>brand</td><td>0.6798</td><td>yes</td><td>1</td><td>5/14/09 10:50</td><td>A look inside the...</td><td>7799</td><td>null</td><td>0084B4</td><td>JackRogersUSA</td><td>null</td><td>https://pbs.twimg...</td><td>0</td><td>FFFFFF</td><td>@knaaasty oh no! ...</td><td>null</td><td>9988</td><td>10/26/15 13:19</td><td>6.5874E17</td><td>USA</td><td>Eastern Time (US ...</td></tr>\n",
       "<tr><td>815736091</td><td>FALSE</td><td>finalized</td><td>3</td><td>10/27/15 1:45</td><td>brand</td><td>0.676</td><td>yes</td><td>1</td><td>4/29/10 19:39</td><td>Find the latest j...</td><td>2</td><td>null</td><td>0084B4</td><td>Huntsville_Buzz</td><td>null</td><td>https://pbs.twimg...</td><td>0</td><td>FFFFFF</td><td>Find MovieTimes&amp;a...</td><td>null</td><td>99855</td><td>10/26/15 13:19</td><td>6.5874E17</td><td>Huntsville AL</td><td>Pacific Time (US ...</td></tr>\n",
       "<tr><td>815738012</td><td>FALSE</td><td>finalized</td><td>3</td><td>10/26/15 23:18</td><td>brand</td><td>0.6602</td><td>yes</td><td>1</td><td>4/16/07 10:09</td><td>Sciolist and fl̢n...</td><td>54436</td><td>null</td><td>0000FF</td><td>r_wolfcastle</td><td>null</td><td>https://pbs.twimg...</td><td>0</td><td>87BC44</td><td>@HelloCVH @femspl...</td><td>null</td><td>99845</td><td>10/26/15 13:19</td><td>6.5874E17</td><td>37.328871,-121.89...</td><td>Pacific Time (US ...</td></tr>\n",
       "<tr><td>815723419</td><td>FALSE</td><td>finalized</td><td>3</td><td>10/26/15 23:32</td><td>male</td><td>1</td><td>yes</td><td>1</td><td>6/18/12 16:52</td><td>Going to school f...</td><td>5603</td><td>null</td><td>0084B4</td><td>Almigh_Bobby</td><td>null</td><td>https://pbs.twimg...</td><td>0</td><td>C0DEED</td><td>I wanna go to the...</td><td>null</td><td>99833</td><td>10/26/15 12:40</td><td>6.5873E17</td><td>null</td><td>Pacific Time (US ...</td></tr>\n",
       "<tr><td>815726637</td><td>FALSE</td><td>finalized</td><td>3</td><td>10/26/15 22:59</td><td>unknown</td><td>0.66</td><td>yes</td><td>1</td><td>3/30/14 4:36</td><td>null</td><td>0</td><td>null</td><td>0084B4</td><td>02659gnlc</td><td>null</td><td>https://abs.twimg...</td><td>0</td><td>C0DEED</td><td>Get Weather Updat...</td><td>null</td><td>99810</td><td>10/26/15 12:40</td><td>6.5873E17</td><td>null</td><td>null</td></tr>\n",
       "<tr><td>815729928</td><td>FALSE</td><td>finalized</td><td>3</td><td>10/26/15 23:46</td><td>male</td><td>1</td><td>yes</td><td>1</td><td>9/23/13 16:04</td><td>Whats Up Everyone...</td><td>8237</td><td>null</td><td>DD2E44</td><td>EvilYoYo17</td><td>null</td><td>https://pbs.twimg...</td><td>0</td><td>FFFFFF</td><td>@MorrisMichellee ...</td><td>null</td><td>9981</td><td>10/26/15 13:20</td><td>6.5874E17</td><td>null</td><td>Eastern Time (US ...</td></tr>\n",
       "<tr><td>815730695</td><td>FALSE</td><td>finalized</td><td>3</td><td>10/26/15 21:49</td><td>male</td><td>1</td><td>yes</td><td>1</td><td>4/2/15 6:36</td><td>Independent #trav...</td><td>675</td><td>null</td><td>88214E</td><td>RobChadwickTC</td><td>null</td><td>https://pbs.twimg...</td><td>0</td><td>C0DEED</td><td>#Holidays, #trave...</td><td>null</td><td>998</td><td>10/26/15 13:20</td><td>6.5874E17</td><td>Bedford, England</td><td>null</td></tr>\n",
       "<tr><td>815719304</td><td>FALSE</td><td>finalized</td><td>3</td><td>10/26/15 23:20</td><td>male</td><td>1</td><td>yes</td><td>1</td><td>3/7/10 12:38</td><td>Lover of the trut...</td><td>215</td><td>null</td><td>0084B4</td><td>cyrusodessa</td><td>null</td><td>https://pbs.twimg...</td><td>0</td><td>C0DEED</td><td>@Lov3rzWorldwide ...</td><td>null</td><td>998</td><td>10/26/15 12:40</td><td>6.5873E17</td><td>USA </td><td>null</td></tr>\n",
       "<tr><td>815729498</td><td>FALSE</td><td>finalized</td><td>3</td><td>10/26/15 23:07</td><td>female</td><td>1</td><td>yes</td><td>1</td><td>4/9/09 6:07</td><td>null</td><td>188</td><td>null</td><td>0099B9</td><td>oldertwin</td><td>null</td><td>https://pbs.twimg...</td><td>0</td><td>5ED4DC</td><td>@PHLAirport ty so...</td><td>null</td><td>998</td><td>10/26/15 13:20</td><td>6.5874E17</td><td>New Jersey</td><td>Quito</td></tr>\n",
       "<tr><td>815735846</td><td>FALSE</td><td>finalized</td><td>3</td><td>10/26/15 23:08</td><td>brand</td><td>1</td><td>yes</td><td>1</td><td>7/17/13 4:29</td><td>Everything BWFC, ...</td><td>7</td><td>null</td><td>0084B4</td><td>ScottMacay</td><td>null</td><td>https://pbs.twimg...</td><td>0</td><td>0</td><td>FL Talking Points...</td><td>null</td><td>99792</td><td>10/26/15 13:19</td><td>6.5874E17</td><td>Manchester</td><td>null</td></tr>\n",
       "<tr><td>815730713</td><td>FALSE</td><td>finalized</td><td>3</td><td>10/27/15 1:33</td><td>female</td><td>1</td><td>yes</td><td>1</td><td>1/7/14 8:20</td><td>adam used to DM m...</td><td>5659</td><td>null</td><td>9266CC</td><td>horan_hugger_</td><td>null</td><td>https://pbs.twimg...</td><td>0</td><td>0</td><td>Go thumbs up @Ada...</td><td>null</td><td>9978</td><td>10/26/15 13:20</td><td>6.5874E17</td><td>London, England</td><td>null</td></tr>\n",
       "<tr><td>815728607</td><td>FALSE</td><td>finalized</td><td>3</td><td>10/26/15 23:37</td><td>female</td><td>1</td><td>yes</td><td>1</td><td>8/9/12 19:41</td><td>CLT</td><td>2687</td><td>null</td><td>333333</td><td>Johannaaaa__</td><td>null</td><td>https://pbs.twimg...</td><td>0</td><td>C0DEED</td><td>@Shelbyleighc_  @...</td><td>null</td><td>9978</td><td>10/26/15 12:39</td><td>6.5873E17</td><td>null</td><td>null</td></tr>\n",
       "<tr><td>815726860</td><td>FALSE</td><td>finalized</td><td>3</td><td>10/27/15 0:57</td><td>brand</td><td>0.6745</td><td>yes</td><td>1</td><td>3/7/14 9:32</td><td>Weather for 01086</td><td>0</td><td>null</td><td>0084B4</td><td>01806gnlb</td><td>null</td><td>https://abs.twimg...</td><td>0</td><td>C0DEED</td><td>Get Weather Updat...</td><td>null</td><td>99751</td><td>10/26/15 12:40</td><td>6.5873E17</td><td>null</td><td>null</td></tr>\n",
       "<tr><td>815738301</td><td>FALSE</td><td>finalized</td><td>3</td><td>10/26/15 23:58</td><td>female</td><td>1</td><td>yes</td><td>1</td><td>7/18/14 7:28</td><td>@calum5sos: @luke...</td><td>13401</td><td>null</td><td>0084B4</td><td>clever_calum</td><td>null</td><td>https://pbs.twimg...</td><td>0</td><td>C0DEED</td><td>@ghostsmalum oh y...</td><td>null</td><td>9975</td><td>10/26/15 13:19</td><td>6.5874E17</td><td>wishing i was at ...</td><td>Central Time (US ...</td></tr>\n",
       "</table>\n",
       "only showing top 20 rows\n"
      ],
      "text/plain": [
       "+--------------------+--------------------+--------------------+------------------+-----------------+------------+-----------------+----------+---------------------+-------------+--------------------+----------+--------------------+----------+---------------+--------------------+--------------------+-------------+--------------+--------------------+-----------------+--------------------+--------------+---------+--------------------+--------------------+\n",
       "|            _unit_id|             _golden|         _unit_state|_trusted_judgments|_last_judgment_at|      gender|gender:confidence|profile_yn|profile_yn:confidence|      created|         description|fav_number|         gender_gold|link_color|           name|     profile_yn_gold|        profileimage|retweet_count| sidebar_color|                text|      tweet_coord|         tweet_count| tweet_created| tweet_id|      tweet_location|       user_timezone|\n",
       "+--------------------+--------------------+--------------------+------------------+-----------------+------------+-----------------+----------+---------------------+-------------+--------------------+----------+--------------------+----------+---------------+--------------------+--------------------+-------------+--------------+--------------------+-----------------+--------------------+--------------+---------+--------------------+--------------------+\n",
       "|Specializing��in�...|           UI Design|��and��Icon��Crea...|           animals|        traveling| pop culture|    and tattoos.\"|       682|                 null|       2A90EA|          kalmichael|      null|https://pbs.twimg...|         0|         292929|@kevinhoctor Wher...|                null|        15614|10/26/15 12:40|          6.5873E+17|San Francisco, CA|Pacific Time (US ...|          null|     null|                null|                null|\n",
       "|Your Hub for bran...| marketing and pr...|            mixtapes|    graphic design|         printing|         djs|    artists ETC!\"|         2|                 null|       FF0000|      PROMO4LIFE_BIZ|      null|https://pbs.twimg...|         0|              0|THE BAY IS JUMPIN...|                null|        34477|10/26/15 12:40|          6.5873E+17|    New York City|Atlantic Time (Ca...|          null|     null|                null|                null|\n",
       "|           815726459|               FALSE|           finalized|                 3|    10/27/15 0:10|       brand|           0.6702|       yes|                    1|  4/8/14 5:37|                null|         0|                null|    0084B4|      02889trdc|                null|https://abs.twimg...|            0|        C0DEED|Get Weather Updat...|             null|               99958|10/26/15 12:40|6.5873E17|                null|                null|\n",
       "|           815725804|               FALSE|           finalized|                 3|   10/26/15 22:04|       brand|                1|       yes|                    1| 3/16/11 5:20|@koolfmbarrie Bar...|       997|                null|    0084B4|   KoolFMBarrie|                null|https://pbs.twimg...|            0|        FFFFFF|Don't miss the #B...|             null|                9993|10/26/15 12:40|6.5873E17|              Barrie|Pacific Time (US ...|\n",
       "|           815719525|               FALSE|           finalized|                 3|   10/26/15 22:47|      female|                1|       yes|                    1| 4/21/12 3:09|If relationship c...|         0|                null|    0084B4|     leechjgena|                null|https://pbs.twimg...|            0|        C0DEED|#Mens #Shirt #Bre...|             null|               99915|10/26/15 12:40|6.5873E17|                null|              Berlin|\n",
       "|           815728297|               FALSE|           finalized|                 3|    10/27/15 1:21|      female|                1|       yes|                    1|4/28/11 19:46|life throws you c...|      5006|                null|    0084B4|       KimNarry|                null|https://pbs.twimg...|            0|        C0DEED|I hope my kids ha...|             null|                9991|10/26/15 12:39|6.5873E17|   probably at sonic|Central Time (US ...|\n",
       "|           815737381|               FALSE|           finalized|                 3|    10/27/15 0:15|       brand|           0.6798|       yes|                    1|5/14/09 10:50|A look inside the...|      7799|                null|    0084B4|  JackRogersUSA|                null|https://pbs.twimg...|            0|        FFFFFF|@knaaasty oh no! ...|             null|                9988|10/26/15 13:19|6.5874E17|                 USA|Eastern Time (US ...|\n",
       "|           815736091|               FALSE|           finalized|                 3|    10/27/15 1:45|       brand|            0.676|       yes|                    1|4/29/10 19:39|Find the latest j...|         2|                null|    0084B4|Huntsville_Buzz|                null|https://pbs.twimg...|            0|        FFFFFF|Find MovieTimes&a...|             null|               99855|10/26/15 13:19|6.5874E17|       Huntsville AL|Pacific Time (US ...|\n",
       "|           815738012|               FALSE|           finalized|                 3|   10/26/15 23:18|       brand|           0.6602|       yes|                    1|4/16/07 10:09|Sciolist and fl̢n...|     54436|                null|    0000FF|   r_wolfcastle|                null|https://pbs.twimg...|            0|        87BC44|@HelloCVH @femspl...|             null|               99845|10/26/15 13:19|6.5874E17|37.328871,-121.89...|Pacific Time (US ...|\n",
       "|           815723419|               FALSE|           finalized|                 3|   10/26/15 23:32|        male|                1|       yes|                    1|6/18/12 16:52|Going to school f...|      5603|                null|    0084B4|   Almigh_Bobby|                null|https://pbs.twimg...|            0|        C0DEED|I wanna go to the...|             null|               99833|10/26/15 12:40|6.5873E17|                null|Pacific Time (US ...|\n",
       "|           815726637|               FALSE|           finalized|                 3|   10/26/15 22:59|     unknown|             0.66|       yes|                    1| 3/30/14 4:36|                null|         0|                null|    0084B4|      02659gnlc|                null|https://abs.twimg...|            0|        C0DEED|Get Weather Updat...|             null|               99810|10/26/15 12:40|6.5873E17|                null|                null|\n",
       "|           815729928|               FALSE|           finalized|                 3|   10/26/15 23:46|        male|                1|       yes|                    1|9/23/13 16:04|Whats Up Everyone...|      8237|                null|    DD2E44|     EvilYoYo17|                null|https://pbs.twimg...|            0|        FFFFFF|@MorrisMichellee ...|             null|                9981|10/26/15 13:20|6.5874E17|                null|Eastern Time (US ...|\n",
       "|           815730695|               FALSE|           finalized|                 3|   10/26/15 21:49|        male|                1|       yes|                    1|  4/2/15 6:36|Independent #trav...|       675|                null|    88214E|  RobChadwickTC|                null|https://pbs.twimg...|            0|        C0DEED|#Holidays, #trave...|             null|                 998|10/26/15 13:20|6.5874E17|    Bedford, England|                null|\n",
       "|           815719304|               FALSE|           finalized|                 3|   10/26/15 23:20|        male|                1|       yes|                    1| 3/7/10 12:38|Lover of the trut...|       215|                null|    0084B4|    cyrusodessa|                null|https://pbs.twimg...|            0|        C0DEED|@Lov3rzWorldwide ...|             null|                 998|10/26/15 12:40|6.5873E17|                USA |                null|\n",
       "|           815729498|               FALSE|           finalized|                 3|   10/26/15 23:07|      female|                1|       yes|                    1|  4/9/09 6:07|                null|       188|                null|    0099B9|      oldertwin|                null|https://pbs.twimg...|            0|        5ED4DC|@PHLAirport ty so...|             null|                 998|10/26/15 13:20|6.5874E17|          New Jersey|               Quito|\n",
       "|           815735846|               FALSE|           finalized|                 3|   10/26/15 23:08|       brand|                1|       yes|                    1| 7/17/13 4:29|Everything BWFC, ...|         7|                null|    0084B4|     ScottMacay|                null|https://pbs.twimg...|            0|             0|FL Talking Points...|             null|               99792|10/26/15 13:19|6.5874E17|          Manchester|                null|\n",
       "|           815730713|               FALSE|           finalized|                 3|    10/27/15 1:33|      female|                1|       yes|                    1|  1/7/14 8:20|adam used to DM m...|      5659|                null|    9266CC|  horan_hugger_|                null|https://pbs.twimg...|            0|             0|Go thumbs up @Ada...|             null|                9978|10/26/15 13:20|6.5874E17|     London, England|                null|\n",
       "|           815728607|               FALSE|           finalized|                 3|   10/26/15 23:37|      female|                1|       yes|                    1| 8/9/12 19:41|                 CLT|      2687|                null|    333333|   Johannaaaa__|                null|https://pbs.twimg...|            0|        C0DEED|@Shelbyleighc_  @...|             null|                9978|10/26/15 12:39|6.5873E17|                null|                null|\n",
       "|           815726860|               FALSE|           finalized|                 3|    10/27/15 0:57|       brand|           0.6745|       yes|                    1|  3/7/14 9:32|   Weather for 01086|         0|                null|    0084B4|      01806gnlb|                null|https://abs.twimg...|            0|        C0DEED|Get Weather Updat...|             null|               99751|10/26/15 12:40|6.5873E17|                null|                null|\n",
       "|           815738301|               FALSE|           finalized|                 3|   10/26/15 23:58|      female|                1|       yes|                    1| 7/18/14 7:28|@calum5sos: @luke...|     13401|                null|    0084B4|   clever_calum|                null|https://pbs.twimg...|            0|        C0DEED|@ghostsmalum oh y...|             null|                9975|10/26/15 13:19|6.5874E17|wishing i was at ...|Central Time (US ...|\n",
       "+--------------------+--------------------+--------------------+------------------+-----------------+------------+-----------------+----------+---------------------+-------------+--------------------+----------+--------------------+----------+---------------+--------------------+--------------------+-------------+--------------+--------------------+-----------------+--------------------+--------------+---------+--------------------+--------------------+\n",
       "only showing top 20 rows"
      ]
     },
     "execution_count": 15,
     "metadata": {},
     "output_type": "execute_result"
    }
   ],
   "source": [
    "data1.createOrReplaceTempView('data')\n",
    "spark.sql(\"select * from data order by tweet_count desc\")"
   ]
  },
  {
   "cell_type": "code",
   "execution_count": 6,
   "id": "b5da6d2f",
   "metadata": {},
   "outputs": [
    {
     "name": "stdout",
     "output_type": "stream",
     "text": [
      "+---------------+-----------+\n",
      "|           name|tweet_count|\n",
      "+---------------+-----------+\n",
      "|       TaibaDXB|     992101|\n",
      "|    AmNewsWatch|     983165|\n",
      "|AllTheNewsIsNow|     982075|\n",
      "|    ukworldnews|     963707|\n",
      "|     yumronidua|     958325|\n",
      "|  sexysleepwear|     950858|\n",
      "|         BTCare|     937954|\n",
      "|          xxolh|     890423|\n",
      "|  Koran_Inggris|     873619|\n",
      "|      KangenGaa|     849415|\n",
      "|        krs21da|     836529|\n",
      "|   myvotefactor|     793162|\n",
      "|  subredditsbot|     790012|\n",
      "|    TMobileHelp|     768078|\n",
      "| ReadersGazette|     766629|\n",
      "|high_on_glitter|     752344|\n",
      "|    SkyHelpTeam|     729779|\n",
      "|   BaltNetRadio|     726980|\n",
      "|  commonpatriot|     726477|\n",
      "|    uzsanjarbek|     692281|\n",
      "+---------------+-----------+\n",
      "only showing top 20 rows\n",
      "\n"
     ]
    }
   ],
   "source": [
    "data1.select('name','tweet_count').distinct().where(data1.tweet_count>100000).sort(data1.tweet_count.desc()).show()"
   ]
  },
  {
   "cell_type": "code",
   "execution_count": null,
   "id": "12870b92",
   "metadata": {},
   "outputs": [],
   "source": []
  }
 ],
 "metadata": {
  "kernelspec": {
   "display_name": "Python 3",
   "language": "python",
   "name": "python3"
  },
  "language_info": {
   "codemirror_mode": {
    "name": "ipython",
    "version": 3
   },
   "file_extension": ".py",
   "mimetype": "text/x-python",
   "name": "python",
   "nbconvert_exporter": "python",
   "pygments_lexer": "ipython3",
   "version": "3.8.8"
  }
 },
 "nbformat": 4,
 "nbformat_minor": 5
}
