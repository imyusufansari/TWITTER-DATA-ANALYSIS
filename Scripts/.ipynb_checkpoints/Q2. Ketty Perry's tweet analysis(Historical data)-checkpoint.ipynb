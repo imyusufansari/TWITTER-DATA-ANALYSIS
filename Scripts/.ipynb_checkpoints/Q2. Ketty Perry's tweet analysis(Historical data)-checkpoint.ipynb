{
 "cells": [
  {
   "cell_type": "code",
   "execution_count": 1,
   "id": "22a66476",
   "metadata": {},
   "outputs": [
    {
     "data": {
      "text/html": [
       "\n",
       "            <div>\n",
       "                <p><b>SparkSession - hive</b></p>\n",
       "                \n",
       "        <div>\n",
       "            <p><b>SparkContext</b></p>\n",
       "\n",
       "            <p><a href=\"http://DESKTOP-J364ET4:4040\">Spark UI</a></p>\n",
       "\n",
       "            <dl>\n",
       "              <dt>Version</dt>\n",
       "                <dd><code>v3.1.2</code></dd>\n",
       "              <dt>Master</dt>\n",
       "                <dd><code>local[*]</code></dd>\n",
       "              <dt>AppName</dt>\n",
       "                <dd><code>PySparkShell</code></dd>\n",
       "            </dl>\n",
       "        </div>\n",
       "        \n",
       "            </div>\n",
       "        "
      ],
      "text/plain": [
       "<pyspark.sql.session.SparkSession at 0x24f91dc9ac0>"
      ]
     },
     "execution_count": 1,
     "metadata": {},
     "output_type": "execute_result"
    }
   ],
   "source": [
    "import pyspark\n",
    "import pyspark.sql \n",
    "from pyspark import SparkContext\n",
    "sc = SparkContext.getOrCreate();\n",
    "import findspark\n",
    "findspark.init()\n",
    "from pyspark.sql import SparkSession\n",
    "spark = SparkSession.builder.master(\"local[*]\").getOrCreate()\n",
    "spark.conf.set(\"spark.sql.repl.eagerEval.enabled\", True) # Property used to format output tables better\n",
    "spark"
   ]
  },
  {
   "cell_type": "code",
   "execution_count": 2,
   "id": "41846920",
   "metadata": {},
   "outputs": [],
   "source": [
    "#sc.stop()"
   ]
  },
  {
   "cell_type": "code",
   "execution_count": 3,
   "id": "25ce4894",
   "metadata": {},
   "outputs": [],
   "source": [
    "from pyspark.sql import functions as F"
   ]
  },
  {
   "cell_type": "code",
   "execution_count": 4,
   "id": "7010a39a",
   "metadata": {},
   "outputs": [],
   "source": [
    "twt = spark.read.format(\"com.databricks.spark.csv\").options(inferSchema=\"true\",header='true',escape='\"').load(\"/data/tweets.csv\")\n",
    "\n",
    "tweets = twt.select([F.col(col).alias(col.replace(' ', '_')) for col in twt.columns])"
   ]
  },
  {
   "cell_type": "code",
   "execution_count": 5,
   "id": "cd333808",
   "metadata": {},
   "outputs": [
    {
     "name": "stdout",
     "output_type": "stream",
     "text": [
      "+--------------------+--------------------+-----------------+--------------------+----------+------------------+-----------------+--------------+----------+------------+---------+------------------------+--------------------+--------------------------+\n",
      "|            Tweet_Id|           Tweet_URL|Tweet_Posted_Time|       Tweet_Content|Tweet_Type|            Client|Retweets_received|Likes_received|   User_Id|        Name| Username|Verified_or_Non-Verified|         Profile_URL|Protected_or_Not_Protected|\n",
      "+--------------------+--------------------+-----------------+--------------------+----------+------------------+-----------------+--------------+----------+------------+---------+------------------------+--------------------+--------------------------+\n",
      "|\"1164359165516496...|https://twitter.c...| 22-08-2019 02:10|\"if you actually ...|     Tweet|Twitter for iPhone|             1630|         13782|\"21447363\"|\"KATY PERRY\"|katyperry|                Verified|https://twitter.c...|             Not Protected|\n",
      "|\"1164287143037952...|https://twitter.c...| 21-08-2019 21:24|\"Yes, @cynthialov...|     Tweet|Twitter for iPhone|              401|          3604|\"21447363\"|\"KATY PERRY\"|katyperry|                Verified|https://twitter.c...|             Not Protected|\n",
      "|\"1164237129666314...|https://twitter.c...| 21-08-2019 18:05|\"Technically summ...|     Tweet|Twitter for iPhone|              690|          5955|\"21447363\"|\"KATY PERRY\"|katyperry|                Verified|https://twitter.c...|             Not Protected|\n",
      "|\"1164057424703176...|https://twitter.c...| 21-08-2019 06:11|\"I’m having the P...|     Tweet|         Instagram|              763|          6432|\"21447363\"|\"KATY PERRY\"|katyperry|                Verified|https://twitter.c...|             Not Protected|\n",
      "|\"1163970049050210...|https://twitter.c...| 21-08-2019 00:24|\"Add a little ✨sh...|     Tweet|Twitter for iPhone|              625|          6411|\"21447363\"|\"KATY PERRY\"|katyperry|                Verified|https://twitter.c...|             Not Protected|\n",
      "|\"1163541461234847...|https://twitter.c...| 19-08-2019 20:01|\"On October 11th,...|     Tweet|         Instagram|              933|          6889|\"21447363\"|\"KATY PERRY\"|katyperry|                Verified|https://twitter.c...|             Not Protected|\n",
      "|\"1162837018402934...|https://twitter.c...| 17-08-2019 21:22|\"Show me your 🌼F...|     Tweet|         Instagram|             1045|          8239|\"21447363\"|\"KATY PERRY\"|katyperry|                Verified|https://twitter.c...|             Not Protected|\n",
      "|\"1162411165860810...|https://twitter.c...| 16-08-2019 17:09|\"Haven’t heard #S...|     Tweet|Twitter for iPhone|             3227|         18872|\"21447363\"|\"KATY PERRY\"|katyperry|                Verified|https://twitter.c...|             Not Protected|\n",
      "|\"1162107758591692...|https://twitter.c...| 15-08-2019 21:04|\"honey every day ...|     Tweet|Twitter for iPhone|              557|          5927|\"21447363\"|\"KATY PERRY\"|katyperry|                Verified|https://twitter.c...|             Not Protected|\n",
      "|\"1162094625399566...|https://twitter.c...| 15-08-2019 20:12|\"added to my cale...|     Tweet|Twitter for iPhone|              557|          6278|\"21447363\"|\"KATY PERRY\"|katyperry|                Verified|https://twitter.c...|             Not Protected|\n",
      "|\"1161735142588575...|https://twitter.c...| 14-08-2019 20:23|\"Is that #smallta...|     Tweet|Twitter for iPhone|             2436|         16020|\"21447363\"|\"KATY PERRY\"|katyperry|                Verified|https://twitter.c...|             Not Protected|\n",
      "|\"1161733358268768...|https://twitter.c...| 14-08-2019 20:16|\"♥️🌼 https://t.c...|     Tweet|Twitter for iPhone|             1826|         22727|\"21447363\"|\"KATY PERRY\"|katyperry|                Verified|https://twitter.c...|             Not Protected|\n",
      "|\"1161733145735004...|https://twitter.c...| 14-08-2019 20:15|\"Always lovers #M...|     Tweet|Twitter for iPhone|             3080|         17542|\"21447363\"|\"KATY PERRY\"|katyperry|                Verified|https://twitter.c...|             Not Protected|\n",
      "|\"1161733003841699...|https://twitter.c...| 14-08-2019 20:15|\"💬💬 https://t.c...|     Tweet|Twitter for iPhone|             1286|         11478|\"21447363\"|\"KATY PERRY\"|katyperry|                Verified|https://twitter.c...|             Not Protected|\n",
      "|\"1161367924914786...|https://twitter.c...| 13-08-2019 20:04|\"God spelled back...|     Tweet|         Instagram|             1130|         10762|\"21447363\"|\"KATY PERRY\"|katyperry|                Verified|https://twitter.c...|             Not Protected|\n",
      "|\"1161340709514801...|https://twitter.c...| 13-08-2019 18:16|\"Whether it's #Sm...|     Tweet|Twitter for iPhone|              789|          7143|\"21447363\"|\"KATY PERRY\"|katyperry|                Verified|https://twitter.c...|             Not Protected|\n",
      "|\"1160456545961857...|https://twitter.c...| 11-08-2019 07:42|\"Can’t we all jus...|     Tweet|Twitter for iPhone|            45163|        146578|\"21447363\"|\"KATY PERRY\"|katyperry|                Verified|https://twitter.c...|             Not Protected|\n",
      "|\"1159951298063548...|https://twitter.c...| 09-08-2019 22:15|\"💬💬 https://t.c...|     Tweet|Twitter for iPhone|             1354|         12369|\"21447363\"|\"KATY PERRY\"|katyperry|                Verified|https://twitter.c...|             Not Protected|\n",
      "|\"1159938738669010...|https://twitter.c...| 09-08-2019 21:25|\"🌼 https://t.co/...|     Tweet|Twitter for iPhone|             1121|          7791|\"21447363\"|\"KATY PERRY\"|katyperry|                Verified|https://twitter.c...|             Not Protected|\n",
      "|\"1159931392152821...|https://twitter.c...| 09-08-2019 20:56|\"bts of my beatbo...|     Tweet|         Instagram|              916|          5483|\"21447363\"|\"KATY PERRY\"|katyperry|                Verified|https://twitter.c...|             Not Protected|\n",
      "+--------------------+--------------------+-----------------+--------------------+----------+------------------+-----------------+--------------+----------+------------+---------+------------------------+--------------------+--------------------------+\n",
      "only showing top 20 rows\n",
      "\n"
     ]
    }
   ],
   "source": [
    "tweets.show()"
   ]
  },
  {
   "cell_type": "code",
   "execution_count": 10,
   "id": "8421faff",
   "metadata": {},
   "outputs": [
    {
     "name": "stdout",
     "output_type": "stream",
     "text": [
      "+--------------------+--------------------+--------------+-----------------+\n",
      "|            Tweet_ID|       Tweet_Content|Likes_received|Retweets_received|\n",
      "+--------------------+--------------------+--------------+-----------------+\n",
      "|\"1164359165516496...|\"if you actually ...|         13782|             1630|\n",
      "|\"1164287143037952...|\"Yes, @cynthialov...|          3604|              401|\n",
      "|\"1164237129666314...|\"Technically summ...|          5955|              690|\n",
      "|\"1164057424703176...|\"I’m having the P...|          6432|              763|\n",
      "|\"1163970049050210...|\"Add a little ✨sh...|          6411|              625|\n",
      "|\"1163541461234847...|\"On October 11th,...|          6889|              933|\n",
      "|\"1162837018402934...|\"Show me your 🌼F...|          8239|             1045|\n",
      "|\"1162411165860810...|\"Haven’t heard #S...|         18872|             3227|\n",
      "|\"1162107758591692...|\"honey every day ...|          5927|              557|\n",
      "|\"1162094625399566...|\"added to my cale...|          6278|              557|\n",
      "|\"1161735142588575...|\"Is that #smallta...|         16020|             2436|\n",
      "|\"1161733358268768...|\"♥️🌼 https://t.c...|         22727|             1826|\n",
      "|\"1161733145735004...|\"Always lovers #M...|         17542|             3080|\n",
      "|\"1161733003841699...|\"💬💬 https://t.c...|         11478|             1286|\n",
      "|\"1161367924914786...|\"God spelled back...|         10762|             1130|\n",
      "|\"1161340709514801...|\"Whether it's #Sm...|          7143|              789|\n",
      "|\"1160456545961857...|\"Can’t we all jus...|        146578|            45163|\n",
      "|\"1159951298063548...|\"💬💬 https://t.c...|         12369|             1354|\n",
      "|\"1159938738669010...|\"🌼 https://t.co/...|          7791|             1121|\n",
      "|\"1159931392152821...|\"bts of my beatbo...|          5483|              916|\n",
      "+--------------------+--------------------+--------------+-----------------+\n",
      "only showing top 20 rows\n",
      "\n"
     ]
    }
   ],
   "source": [
    "tweets.select(\"Tweet_ID\",\"Tweet_Content\",\"Likes_received\",\"Retweets_received\").show()"
   ]
  },
  {
   "cell_type": "code",
   "execution_count": 11,
   "id": "7f15bba8",
   "metadata": {},
   "outputs": [],
   "source": [
    "tweets.createOrReplaceTempView(\"tweets\")"
   ]
  },
  {
   "cell_type": "code",
   "execution_count": 34,
   "id": "470e2192",
   "metadata": {},
   "outputs": [
    {
     "data": {
      "text/html": [
       "<table border='1'>\n",
       "<tr><th>Tweet_Id</th><th>Tweet_URL</th><th>Tweet_Posted_Time</th><th>Tweet_Content</th><th>Tweet_Type</th><th>Client</th><th>Retweets_received</th><th>Likes_received</th><th>User_Id</th><th>Name</th><th>Username</th><th>Verified_or_Non-Verified</th><th>Profile_URL</th><th>Protected_or_Not_Protected</th></tr>\n",
       "<tr><td>&quot;1164359165516496...</td><td>https://twitter.c...</td><td>22-08-2019 02:10</td><td>&quot;if you actually ...</td><td>Tweet</td><td>Twitter for iPhone</td><td>1630</td><td>13782</td><td>&quot;21447363&quot;</td><td>&quot;KATY PERRY&quot;</td><td>katyperry</td><td>Verified</td><td>https://twitter.c...</td><td>Not Protected</td></tr>\n",
       "<tr><td>&quot;1164287143037952...</td><td>https://twitter.c...</td><td>21-08-2019 21:24</td><td>&quot;Yes, @cynthialov...</td><td>Tweet</td><td>Twitter for iPhone</td><td>401</td><td>3604</td><td>&quot;21447363&quot;</td><td>&quot;KATY PERRY&quot;</td><td>katyperry</td><td>Verified</td><td>https://twitter.c...</td><td>Not Protected</td></tr>\n",
       "<tr><td>&quot;1164237129666314...</td><td>https://twitter.c...</td><td>21-08-2019 18:05</td><td>&quot;Technically summ...</td><td>Tweet</td><td>Twitter for iPhone</td><td>690</td><td>5955</td><td>&quot;21447363&quot;</td><td>&quot;KATY PERRY&quot;</td><td>katyperry</td><td>Verified</td><td>https://twitter.c...</td><td>Not Protected</td></tr>\n",
       "<tr><td>&quot;1164057424703176...</td><td>https://twitter.c...</td><td>21-08-2019 06:11</td><td>&quot;I’m having the P...</td><td>Tweet</td><td>Instagram</td><td>763</td><td>6432</td><td>&quot;21447363&quot;</td><td>&quot;KATY PERRY&quot;</td><td>katyperry</td><td>Verified</td><td>https://twitter.c...</td><td>Not Protected</td></tr>\n",
       "<tr><td>&quot;1163970049050210...</td><td>https://twitter.c...</td><td>21-08-2019 00:24</td><td>&quot;Add a little ✨sh...</td><td>Tweet</td><td>Twitter for iPhone</td><td>625</td><td>6411</td><td>&quot;21447363&quot;</td><td>&quot;KATY PERRY&quot;</td><td>katyperry</td><td>Verified</td><td>https://twitter.c...</td><td>Not Protected</td></tr>\n",
       "<tr><td>&quot;1163541461234847...</td><td>https://twitter.c...</td><td>19-08-2019 20:01</td><td>&quot;On October 11th,...</td><td>Tweet</td><td>Instagram</td><td>933</td><td>6889</td><td>&quot;21447363&quot;</td><td>&quot;KATY PERRY&quot;</td><td>katyperry</td><td>Verified</td><td>https://twitter.c...</td><td>Not Protected</td></tr>\n",
       "<tr><td>&quot;1162837018402934...</td><td>https://twitter.c...</td><td>17-08-2019 21:22</td><td>&quot;Show me your 🌼F...</td><td>Tweet</td><td>Instagram</td><td>1045</td><td>8239</td><td>&quot;21447363&quot;</td><td>&quot;KATY PERRY&quot;</td><td>katyperry</td><td>Verified</td><td>https://twitter.c...</td><td>Not Protected</td></tr>\n",
       "<tr><td>&quot;1162411165860810...</td><td>https://twitter.c...</td><td>16-08-2019 17:09</td><td>&quot;Haven’t heard #S...</td><td>Tweet</td><td>Twitter for iPhone</td><td>3227</td><td>18872</td><td>&quot;21447363&quot;</td><td>&quot;KATY PERRY&quot;</td><td>katyperry</td><td>Verified</td><td>https://twitter.c...</td><td>Not Protected</td></tr>\n",
       "<tr><td>&quot;1162107758591692...</td><td>https://twitter.c...</td><td>15-08-2019 21:04</td><td>&quot;honey every day ...</td><td>Tweet</td><td>Twitter for iPhone</td><td>557</td><td>5927</td><td>&quot;21447363&quot;</td><td>&quot;KATY PERRY&quot;</td><td>katyperry</td><td>Verified</td><td>https://twitter.c...</td><td>Not Protected</td></tr>\n",
       "<tr><td>&quot;1162094625399566...</td><td>https://twitter.c...</td><td>15-08-2019 20:12</td><td>&quot;added to my cale...</td><td>Tweet</td><td>Twitter for iPhone</td><td>557</td><td>6278</td><td>&quot;21447363&quot;</td><td>&quot;KATY PERRY&quot;</td><td>katyperry</td><td>Verified</td><td>https://twitter.c...</td><td>Not Protected</td></tr>\n",
       "<tr><td>&quot;1161735142588575...</td><td>https://twitter.c...</td><td>14-08-2019 20:23</td><td>&quot;Is that #smallta...</td><td>Tweet</td><td>Twitter for iPhone</td><td>2436</td><td>16020</td><td>&quot;21447363&quot;</td><td>&quot;KATY PERRY&quot;</td><td>katyperry</td><td>Verified</td><td>https://twitter.c...</td><td>Not Protected</td></tr>\n",
       "<tr><td>&quot;1161733358268768...</td><td>https://twitter.c...</td><td>14-08-2019 20:16</td><td>&quot;♥️🌼 https://t.c...</td><td>Tweet</td><td>Twitter for iPhone</td><td>1826</td><td>22727</td><td>&quot;21447363&quot;</td><td>&quot;KATY PERRY&quot;</td><td>katyperry</td><td>Verified</td><td>https://twitter.c...</td><td>Not Protected</td></tr>\n",
       "<tr><td>&quot;1161733145735004...</td><td>https://twitter.c...</td><td>14-08-2019 20:15</td><td>&quot;Always lovers #M...</td><td>Tweet</td><td>Twitter for iPhone</td><td>3080</td><td>17542</td><td>&quot;21447363&quot;</td><td>&quot;KATY PERRY&quot;</td><td>katyperry</td><td>Verified</td><td>https://twitter.c...</td><td>Not Protected</td></tr>\n",
       "<tr><td>&quot;1161733003841699...</td><td>https://twitter.c...</td><td>14-08-2019 20:15</td><td>&quot;💬💬 https://t.c...</td><td>Tweet</td><td>Twitter for iPhone</td><td>1286</td><td>11478</td><td>&quot;21447363&quot;</td><td>&quot;KATY PERRY&quot;</td><td>katyperry</td><td>Verified</td><td>https://twitter.c...</td><td>Not Protected</td></tr>\n",
       "<tr><td>&quot;1161367924914786...</td><td>https://twitter.c...</td><td>13-08-2019 20:04</td><td>&quot;God spelled back...</td><td>Tweet</td><td>Instagram</td><td>1130</td><td>10762</td><td>&quot;21447363&quot;</td><td>&quot;KATY PERRY&quot;</td><td>katyperry</td><td>Verified</td><td>https://twitter.c...</td><td>Not Protected</td></tr>\n",
       "<tr><td>&quot;1161340709514801...</td><td>https://twitter.c...</td><td>13-08-2019 18:16</td><td>&quot;Whether it&#x27;s #Sm...</td><td>Tweet</td><td>Twitter for iPhone</td><td>789</td><td>7143</td><td>&quot;21447363&quot;</td><td>&quot;KATY PERRY&quot;</td><td>katyperry</td><td>Verified</td><td>https://twitter.c...</td><td>Not Protected</td></tr>\n",
       "<tr><td>&quot;1160456545961857...</td><td>https://twitter.c...</td><td>11-08-2019 07:42</td><td>&quot;Can’t we all jus...</td><td>Tweet</td><td>Twitter for iPhone</td><td>45163</td><td>146578</td><td>&quot;21447363&quot;</td><td>&quot;KATY PERRY&quot;</td><td>katyperry</td><td>Verified</td><td>https://twitter.c...</td><td>Not Protected</td></tr>\n",
       "<tr><td>&quot;1159951298063548...</td><td>https://twitter.c...</td><td>09-08-2019 22:15</td><td>&quot;💬💬 https://t.c...</td><td>Tweet</td><td>Twitter for iPhone</td><td>1354</td><td>12369</td><td>&quot;21447363&quot;</td><td>&quot;KATY PERRY&quot;</td><td>katyperry</td><td>Verified</td><td>https://twitter.c...</td><td>Not Protected</td></tr>\n",
       "<tr><td>&quot;1159938738669010...</td><td>https://twitter.c...</td><td>09-08-2019 21:25</td><td>&quot;🌼 https://t.co/...</td><td>Tweet</td><td>Twitter for iPhone</td><td>1121</td><td>7791</td><td>&quot;21447363&quot;</td><td>&quot;KATY PERRY&quot;</td><td>katyperry</td><td>Verified</td><td>https://twitter.c...</td><td>Not Protected</td></tr>\n",
       "<tr><td>&quot;1159931392152821...</td><td>https://twitter.c...</td><td>09-08-2019 20:56</td><td>&quot;bts of my beatbo...</td><td>Tweet</td><td>Instagram</td><td>916</td><td>5483</td><td>&quot;21447363&quot;</td><td>&quot;KATY PERRY&quot;</td><td>katyperry</td><td>Verified</td><td>https://twitter.c...</td><td>Not Protected</td></tr>\n",
       "</table>\n",
       "only showing top 20 rows\n"
      ],
      "text/plain": [
       "+--------------------+--------------------+-----------------+--------------------+----------+------------------+-----------------+--------------+----------+------------+---------+------------------------+--------------------+--------------------------+\n",
       "|            Tweet_Id|           Tweet_URL|Tweet_Posted_Time|       Tweet_Content|Tweet_Type|            Client|Retweets_received|Likes_received|   User_Id|        Name| Username|Verified_or_Non-Verified|         Profile_URL|Protected_or_Not_Protected|\n",
       "+--------------------+--------------------+-----------------+--------------------+----------+------------------+-----------------+--------------+----------+------------+---------+------------------------+--------------------+--------------------------+\n",
       "|\"1164359165516496...|https://twitter.c...| 22-08-2019 02:10|\"if you actually ...|     Tweet|Twitter for iPhone|             1630|         13782|\"21447363\"|\"KATY PERRY\"|katyperry|                Verified|https://twitter.c...|             Not Protected|\n",
       "|\"1164287143037952...|https://twitter.c...| 21-08-2019 21:24|\"Yes, @cynthialov...|     Tweet|Twitter for iPhone|              401|          3604|\"21447363\"|\"KATY PERRY\"|katyperry|                Verified|https://twitter.c...|             Not Protected|\n",
       "|\"1164237129666314...|https://twitter.c...| 21-08-2019 18:05|\"Technically summ...|     Tweet|Twitter for iPhone|              690|          5955|\"21447363\"|\"KATY PERRY\"|katyperry|                Verified|https://twitter.c...|             Not Protected|\n",
       "|\"1164057424703176...|https://twitter.c...| 21-08-2019 06:11|\"I’m having the P...|     Tweet|         Instagram|              763|          6432|\"21447363\"|\"KATY PERRY\"|katyperry|                Verified|https://twitter.c...|             Not Protected|\n",
       "|\"1163970049050210...|https://twitter.c...| 21-08-2019 00:24|\"Add a little ✨sh...|     Tweet|Twitter for iPhone|              625|          6411|\"21447363\"|\"KATY PERRY\"|katyperry|                Verified|https://twitter.c...|             Not Protected|\n",
       "|\"1163541461234847...|https://twitter.c...| 19-08-2019 20:01|\"On October 11th,...|     Tweet|         Instagram|              933|          6889|\"21447363\"|\"KATY PERRY\"|katyperry|                Verified|https://twitter.c...|             Not Protected|\n",
       "|\"1162837018402934...|https://twitter.c...| 17-08-2019 21:22|\"Show me your 🌼F...|     Tweet|         Instagram|             1045|          8239|\"21447363\"|\"KATY PERRY\"|katyperry|                Verified|https://twitter.c...|             Not Protected|\n",
       "|\"1162411165860810...|https://twitter.c...| 16-08-2019 17:09|\"Haven’t heard #S...|     Tweet|Twitter for iPhone|             3227|         18872|\"21447363\"|\"KATY PERRY\"|katyperry|                Verified|https://twitter.c...|             Not Protected|\n",
       "|\"1162107758591692...|https://twitter.c...| 15-08-2019 21:04|\"honey every day ...|     Tweet|Twitter for iPhone|              557|          5927|\"21447363\"|\"KATY PERRY\"|katyperry|                Verified|https://twitter.c...|             Not Protected|\n",
       "|\"1162094625399566...|https://twitter.c...| 15-08-2019 20:12|\"added to my cale...|     Tweet|Twitter for iPhone|              557|          6278|\"21447363\"|\"KATY PERRY\"|katyperry|                Verified|https://twitter.c...|             Not Protected|\n",
       "|\"1161735142588575...|https://twitter.c...| 14-08-2019 20:23|\"Is that #smallta...|     Tweet|Twitter for iPhone|             2436|         16020|\"21447363\"|\"KATY PERRY\"|katyperry|                Verified|https://twitter.c...|             Not Protected|\n",
       "|\"1161733358268768...|https://twitter.c...| 14-08-2019 20:16|\"♥️🌼 https://t.c...|     Tweet|Twitter for iPhone|             1826|         22727|\"21447363\"|\"KATY PERRY\"|katyperry|                Verified|https://twitter.c...|             Not Protected|\n",
       "|\"1161733145735004...|https://twitter.c...| 14-08-2019 20:15|\"Always lovers #M...|     Tweet|Twitter for iPhone|             3080|         17542|\"21447363\"|\"KATY PERRY\"|katyperry|                Verified|https://twitter.c...|             Not Protected|\n",
       "|\"1161733003841699...|https://twitter.c...| 14-08-2019 20:15|\"💬💬 https://t.c...|     Tweet|Twitter for iPhone|             1286|         11478|\"21447363\"|\"KATY PERRY\"|katyperry|                Verified|https://twitter.c...|             Not Protected|\n",
       "|\"1161367924914786...|https://twitter.c...| 13-08-2019 20:04|\"God spelled back...|     Tweet|         Instagram|             1130|         10762|\"21447363\"|\"KATY PERRY\"|katyperry|                Verified|https://twitter.c...|             Not Protected|\n",
       "|\"1161340709514801...|https://twitter.c...| 13-08-2019 18:16|\"Whether it's #Sm...|     Tweet|Twitter for iPhone|              789|          7143|\"21447363\"|\"KATY PERRY\"|katyperry|                Verified|https://twitter.c...|             Not Protected|\n",
       "|\"1160456545961857...|https://twitter.c...| 11-08-2019 07:42|\"Can’t we all jus...|     Tweet|Twitter for iPhone|            45163|        146578|\"21447363\"|\"KATY PERRY\"|katyperry|                Verified|https://twitter.c...|             Not Protected|\n",
       "|\"1159951298063548...|https://twitter.c...| 09-08-2019 22:15|\"💬💬 https://t.c...|     Tweet|Twitter for iPhone|             1354|         12369|\"21447363\"|\"KATY PERRY\"|katyperry|                Verified|https://twitter.c...|             Not Protected|\n",
       "|\"1159938738669010...|https://twitter.c...| 09-08-2019 21:25|\"🌼 https://t.co/...|     Tweet|Twitter for iPhone|             1121|          7791|\"21447363\"|\"KATY PERRY\"|katyperry|                Verified|https://twitter.c...|             Not Protected|\n",
       "|\"1159931392152821...|https://twitter.c...| 09-08-2019 20:56|\"bts of my beatbo...|     Tweet|         Instagram|              916|          5483|\"21447363\"|\"KATY PERRY\"|katyperry|                Verified|https://twitter.c...|             Not Protected|\n",
       "+--------------------+--------------------+-----------------+--------------------+----------+------------------+-----------------+--------------+----------+------------+---------+------------------------+--------------------+--------------------------+\n",
       "only showing top 20 rows"
      ]
     },
     "execution_count": 34,
     "metadata": {},
     "output_type": "execute_result"
    }
   ],
   "source": [
    "spark.sql(\"select * from tweets\")"
   ]
  },
  {
   "cell_type": "code",
   "execution_count": 43,
   "id": "3a893c29",
   "metadata": {},
   "outputs": [
    {
     "name": "stdout",
     "output_type": "stream",
     "text": [
      "+--------------------+--------------+\n",
      "|       Tweet_Content|Likes_received|\n",
      "+--------------------+--------------+\n",
      "|  \"bb ur a firewerk\"|        262980|\n",
      "|\"This meal is BEE...|        171082|\n",
      "|\"Can’t we all jus...|        146578|\n",
      "+--------------------+--------------+\n",
      "\n"
     ]
    }
   ],
   "source": [
    "tweets.select(\"Tweet_Content\",\"Likes_received\").where(tweets.Likes_received > 100000).sort(tweets.Likes_received.desc()).show()"
   ]
  },
  {
   "cell_type": "code",
   "execution_count": 49,
   "id": "0b445277",
   "metadata": {},
   "outputs": [
    {
     "data": {
      "text/html": [
       "<table border='1'>\n",
       "<tr><th>Tweet_Content</th><th>Likes_received</th></tr>\n",
       "<tr><td>&quot;bb ur a firewerk&quot;</td><td>262980</td></tr>\n",
       "<tr><td>&quot;This meal is BEE...</td><td>171082</td></tr>\n",
       "<tr><td>&quot;Can’t we all jus...</td><td>146578</td></tr>\n",
       "</table>\n"
      ],
      "text/plain": [
       "+--------------------+--------------+\n",
       "|       Tweet_Content|Likes_received|\n",
       "+--------------------+--------------+\n",
       "|  \"bb ur a firewerk\"|        262980|\n",
       "|\"This meal is BEE...|        171082|\n",
       "|\"Can’t we all jus...|        146578|\n",
       "+--------------------+--------------+"
      ]
     },
     "execution_count": 49,
     "metadata": {},
     "output_type": "execute_result"
    }
   ],
   "source": [
    "spark.sql(\"Select Tweet_Content, Likes_received from tweets where Likes_received > 100000 order by Likes_received desc\")"
   ]
  },
  {
   "cell_type": "code",
   "execution_count": 51,
   "id": "014ea228",
   "metadata": {
    "scrolled": false
   },
   "outputs": [
    {
     "name": "stdout",
     "output_type": "stream",
     "text": [
      "+--------------------+--------------+\n",
      "|       Tweet_Content|Likes_received|\n",
      "+--------------------+--------------+\n",
      "|  \"bb ur a firewerk\"|        262980|\n",
      "|\"This meal is BEE...|        171082|\n",
      "|\"Can’t we all jus...|        146578|\n",
      "+--------------------+--------------+\n",
      "\n"
     ]
    }
   ],
   "source": [
    "lf= spark.sql(\"Select Tweet_Content, Likes_received from tweets where Likes_received > 100000 order by Likes_received desc\")\n",
    "lf.show()"
   ]
  },
  {
   "cell_type": "code",
   "execution_count": null,
   "id": "7502f6f5",
   "metadata": {},
   "outputs": [],
   "source": []
  },
  {
   "cell_type": "code",
   "execution_count": null,
   "id": "d4227438",
   "metadata": {},
   "outputs": [],
   "source": []
  }
 ],
 "metadata": {
  "kernelspec": {
   "display_name": "Python 3",
   "language": "python",
   "name": "python3"
  },
  "language_info": {
   "codemirror_mode": {
    "name": "ipython",
    "version": 3
   },
   "file_extension": ".py",
   "mimetype": "text/x-python",
   "name": "python",
   "nbconvert_exporter": "python",
   "pygments_lexer": "ipython3",
   "version": "3.8.8"
  }
 },
 "nbformat": 4,
 "nbformat_minor": 5
}
